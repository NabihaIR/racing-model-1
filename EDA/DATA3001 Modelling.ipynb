{
 "cells": [
  {
   "cell_type": "code",
   "execution_count": 2,
   "id": "609fbc94",
   "metadata": {},
   "outputs": [],
   "source": [
    "import pandas as pd\n",
    "df = pd.read_csv('Data3001Modelling.csv')"
   ]
  },
  {
   "cell_type": "code",
   "execution_count": 4,
   "id": "7b6a2cef",
   "metadata": {},
   "outputs": [
    {
     "name": "stdout",
     "output_type": "stream",
     "text": [
      "SECTION_TIME_MS        1.000000\n",
      "522_CURR_LAPTIME       0.791883\n",
      "495_CURR_LAPTIME       0.689533\n",
      "MS_CURR_LAPTIME        0.654839\n",
      "MT_CURR_LAPTIME        0.613664\n",
      "468_CURR_LAPTIME       0.599119\n",
      "MB_CURR_LAPTIME        0.552249\n",
      "414_CURR_LAPTIME       0.543696\n",
      "441_CURR_LAPTIME       0.536246\n",
      "MS_DIST_APEX_1         0.522796\n",
      "MS_LAP_DIST            0.432225\n",
      "441_DIST_FROM_LEFT     0.425526\n",
      "387_CURR_LAPTIME       0.404153\n",
      "414_DIST_APEX_1        0.390600\n",
      "414_DIST_FROM_RIGHT    0.364361\n",
      "Name: SECTION_TIME_MS, dtype: float64\n",
      "TOTAL_THROTTLE_495_522   -0.420383\n",
      "MT_SPEED                 -0.421027\n",
      "468_ENGINE_RPM           -0.444573\n",
      "522_ENGINE_RPM           -0.450485\n",
      "495_ENGINE_RPM           -0.454844\n",
      "MS_GEAR                  -0.460889\n",
      "MS_YPOS                  -0.472515\n",
      "441_SPEED                -0.486042\n",
      "468_GEAR                 -0.501002\n",
      "MS_SPEED                 -0.519708\n",
      "495_GEAR                 -0.547411\n",
      "468_SPEED                -0.554445\n",
      "495_SPEED                -0.578654\n",
      "522_GEAR                 -0.579121\n",
      "522_SPEED                -0.628579\n",
      "Name: SECTION_TIME_MS, dtype: float64\n"
     ]
    }
   ],
   "source": [
    "# Select only numeric columns\n",
    "numeric_df = df.select_dtypes(include=['float64', 'int64'])\n",
    "\n",
    "# Calculate correlations with the target variable\n",
    "correlations = numeric_df.corr()['SECTION_TIME_MS'].sort_values(ascending=False)\n",
    "\n",
    "# View the top and bottom correlations\n",
    "print(correlations.head(15))  # High positive correlations\n",
    "print(correlations.tail(15))  # High negative correlations\n"
   ]
  },
  {
   "cell_type": "code",
   "execution_count": 5,
   "id": "8db0d9cb",
   "metadata": {},
   "outputs": [
    {
     "name": "stdout",
     "output_type": "stream",
     "text": [
      "                   Feature  Importance\n",
      "57         MS_CURR_LAPTIME    0.376648\n",
      "201       522_CURR_LAPTIME    0.262919\n",
      "196              522_SPEED    0.037590\n",
      "60          MS_DIST_APEX_1    0.032487\n",
      "185       495_CURR_LAPTIME    0.016800\n",
      "164              468_SPEED    0.014424\n",
      "165           468_LAP_DIST    0.013875\n",
      "89         MT_CURR_LAPTIME    0.013414\n",
      "213  TOTAL_BRAKING_414_441    0.013254\n",
      "101           360_LAP_DIST    0.007608\n",
      "81      MT_DIST_FROM_RIGHT    0.007576\n",
      "51                 MS_YPOS    0.006793\n",
      "54             MS_THROTTLE    0.006488\n",
      "120           387_STEERING    0.006407\n",
      "72             FT_STEERING    0.005694\n"
     ]
    }
   ],
   "source": [
    "from sklearn.ensemble import RandomForestRegressor\n",
    "from sklearn.model_selection import train_test_split\n",
    "\n",
    "# Prepare data\n",
    "X = df.drop(['SECTION_TIME_MS', 'SESSION_IDENTIFIER', 'LAP_NUM'], axis=1)\n",
    "y = df['SECTION_TIME_MS']\n",
    "\n",
    "# Split data\n",
    "X_train, X_test, y_train, y_test = train_test_split(X, y, test_size=0.2, random_state=42)\n",
    "\n",
    "# Fit Random Forest\n",
    "model = RandomForestRegressor(n_estimators=100, random_state=42)\n",
    "model.fit(X_train, y_train)\n",
    "\n",
    "# Get feature importances\n",
    "feature_importances = pd.DataFrame({\n",
    "    'Feature': X.columns,\n",
    "    'Importance': model.feature_importances_\n",
    "}).sort_values(by='Importance', ascending=False)\n",
    "\n",
    "# Display top features\n",
    "print(feature_importances.head(15))\n"
   ]
  },
  {
   "cell_type": "code",
   "execution_count": 6,
   "id": "ba5b8bd3",
   "metadata": {},
   "outputs": [
    {
     "name": "stdout",
     "output_type": "stream",
     "text": [
      "High-variance features: Index(['FB_DIST_FROM_LEFT', 'FB_DIST_FROM_RIGHT', 'FB_XPOS', 'FB_YPOS',\n",
      "       'FB_SPEED', 'FB_LAP_DIST', 'FB_THROTTLE', 'FB_BRAKE', 'FB_CURR_LAPTIME',\n",
      "       'FB_GEAR',\n",
      "       ...\n",
      "       'TOTAL_THROTTLE_387_414', 'TOTAL_BRAKING_414_441',\n",
      "       'TOTAL_THROTTLE_414_441', 'TOTAL_BRAKING_441_468',\n",
      "       'TOTAL_THROTTLE_441_468', 'TOTAL_BRAKING_468_495',\n",
      "       'TOTAL_THROTTLE_468_495', 'TOTAL_BRAKING_495_522',\n",
      "       'TOTAL_THROTTLE_495_522', 'YEAR'],\n",
      "      dtype='object', length=216)\n"
     ]
    }
   ],
   "source": [
    "from sklearn.feature_selection import VarianceThreshold\n",
    "\n",
    "# Set a variance threshold\n",
    "selector = VarianceThreshold(threshold=0.01)\n",
    "selector.fit(X)\n",
    "\n",
    "# Keep only high-variance features\n",
    "high_variance_features = X.columns[selector.get_support()]\n",
    "print(\"High-variance features:\", high_variance_features)\n"
   ]
  },
  {
   "cell_type": "code",
   "execution_count": 7,
   "id": "93052f5f",
   "metadata": {},
   "outputs": [
    {
     "name": "stdout",
     "output_type": "stream",
     "text": [
      "Significant features from ANOVA: ['FB_DIST_FROM_LEFT', 'FB_DIST_FROM_RIGHT', 'FB_XPOS', 'FB_YPOS', 'FB_SPEED', 'FB_LAP_DIST', 'FB_THROTTLE', 'FB_BRAKE', 'FB_STEERING', 'FB_CURR_LAPTIME', 'FB_GEAR', 'FB_ENGINE_RPM', 'FB_DIST_APEX_1', 'FB_DIST_APEX_2', 'FB_ANGLE_APEX_1', 'FB_ANGLE_APEX_2', 'MB_DIST_FROM_LEFT', 'MB_DIST_FROM_RIGHT', 'MB_XPOS', 'MB_YPOS', 'MB_SPEED', 'MB_LAP_DIST', 'MB_THROTTLE', 'MB_BRAKE', 'MB_STEERING', 'MB_CURR_LAPTIME', 'MB_GEAR', 'MB_ENGINE_RPM', 'MB_DIST_APEX_1', 'MB_DIST_APEX_2', 'MB_ANGLE_APEX_1', 'MB_ANGLE_APEX_2', 'FS_DIST_FROM_LEFT', 'FS_DIST_FROM_RIGHT', 'FS_XPOS', 'FS_YPOS', 'FS_SPEED', 'FS_LAP_DIST', 'FS_THROTTLE', 'FS_BRAKE', 'FS_STEERING', 'FS_CURR_LAPTIME', 'FS_GEAR', 'FS_ENGINE_RPM', 'FS_DIST_APEX_1', 'FS_DIST_APEX_2', 'FS_ANGLE_APEX_1', 'FS_ANGLE_APEX_2', 'MS_DIST_FROM_LEFT', 'MS_DIST_FROM_RIGHT', 'MS_XPOS', 'MS_YPOS', 'MS_SPEED', 'MS_LAP_DIST', 'MS_THROTTLE', 'MS_BRAKE', 'MS_STEERING', 'MS_CURR_LAPTIME', 'MS_GEAR', 'MS_ENGINE_RPM', 'MS_DIST_APEX_1', 'MS_DIST_APEX_2', 'MS_ANGLE_APEX_1', 'MS_ANGLE_APEX_2', 'FT_DIST_FROM_LEFT', 'FT_DIST_FROM_RIGHT', 'FT_XPOS', 'FT_YPOS', 'FT_SPEED', 'FT_LAP_DIST', 'FT_THROTTLE', 'FT_BRAKE', 'FT_STEERING', 'FT_CURR_LAPTIME', 'FT_GEAR', 'FT_ENGINE_RPM', 'FT_DIST_APEX_1', 'FT_DIST_APEX_2', 'FT_ANGLE_APEX_1', 'FT_ANGLE_APEX_2', 'MT_DIST_FROM_LEFT', 'MT_DIST_FROM_RIGHT', 'MT_XPOS', 'MT_YPOS', 'MT_SPEED', 'MT_LAP_DIST', 'MT_THROTTLE', 'MT_BRAKE', 'MT_STEERING', 'MT_CURR_LAPTIME', 'MT_GEAR', 'MT_ENGINE_RPM', 'MT_DIST_APEX_1', 'MT_DIST_APEX_2', 'MT_ANGLE_APEX_1', 'MT_ANGLE_APEX_2', '360_DIST_FROM_LEFT', '360_DIST_FROM_RIGHT', '360_XPOS', '360_YPOS', '360_SPEED', '360_LAP_DIST', '360_THROTTLE', '360_BRAKE', '360_STEERING', '360_CURR_LAPTIME', '360_GEAR', '360_ENGINE_RPM', '360_DIST_APEX_1', '360_DIST_APEX_2', '360_ANGLE_APEX_1', '360_ANGLE_APEX_2', '387_DIST_FROM_LEFT', '387_DIST_FROM_RIGHT', '387_XPOS', '387_YPOS', '387_SPEED', '387_LAP_DIST', '387_THROTTLE', '387_BRAKE', '387_STEERING', '387_CURR_LAPTIME', '387_GEAR', '387_ENGINE_RPM', '387_DIST_APEX_1', '387_DIST_APEX_2', '387_ANGLE_APEX_1', '387_ANGLE_APEX_2', '414_DIST_FROM_LEFT', '414_DIST_FROM_RIGHT', '414_XPOS', '414_YPOS', '414_SPEED', '414_LAP_DIST', '414_THROTTLE', '414_BRAKE', '414_STEERING', '414_CURR_LAPTIME', '414_GEAR', '414_ENGINE_RPM', '414_DIST_APEX_1', '414_DIST_APEX_2', '414_ANGLE_APEX_1', '414_ANGLE_APEX_2', '441_DIST_FROM_LEFT', '441_DIST_FROM_RIGHT', '441_XPOS', '441_YPOS', '441_SPEED', '441_LAP_DIST', '441_THROTTLE', '441_BRAKE', '441_STEERING', '441_CURR_LAPTIME', '441_GEAR', '441_ENGINE_RPM', '441_DIST_APEX_1', '441_DIST_APEX_2', '441_ANGLE_APEX_1', '441_ANGLE_APEX_2', '468_DIST_FROM_LEFT', '468_DIST_FROM_RIGHT', '468_XPOS', '468_YPOS', '468_SPEED', '468_LAP_DIST', '468_THROTTLE', '468_BRAKE', '468_STEERING', '468_CURR_LAPTIME', '468_GEAR', '468_ENGINE_RPM', '468_DIST_APEX_1', '468_DIST_APEX_2', '468_ANGLE_APEX_1', '468_ANGLE_APEX_2', '495_DIST_FROM_LEFT', '495_DIST_FROM_RIGHT', '495_XPOS', '495_YPOS', '495_SPEED', '495_LAP_DIST', '495_THROTTLE', '495_BRAKE', '495_STEERING', '495_CURR_LAPTIME', '495_GEAR', '495_ENGINE_RPM', '495_DIST_APEX_1', '495_DIST_APEX_2', '495_ANGLE_APEX_1', '495_ANGLE_APEX_2', '522_DIST_FROM_LEFT', '522_DIST_FROM_RIGHT', '522_XPOS', '522_YPOS', '522_SPEED', '522_LAP_DIST', '522_THROTTLE', '522_BRAKE', '522_STEERING', '522_CURR_LAPTIME', '522_GEAR', '522_ENGINE_RPM', '522_DIST_APEX_1', '522_DIST_APEX_2', '522_ANGLE_APEX_1', '522_ANGLE_APEX_2', 'INVALID_LAP', 'TOTAL_BRAKING_360_387', 'TOTAL_THROTTLE_360_387', 'TOTAL_BRAKING_387_414', 'TOTAL_THROTTLE_387_414', 'TOTAL_BRAKING_414_441', 'TOTAL_THROTTLE_414_441', 'TOTAL_BRAKING_441_468', 'TOTAL_THROTTLE_441_468', 'TOTAL_BRAKING_468_495', 'TOTAL_THROTTLE_468_495', 'TOTAL_BRAKING_495_522', 'TOTAL_THROTTLE_495_522', 'YEAR']\n"
     ]
    }
   ],
   "source": [
    "from scipy.stats import f_oneway\n",
    "\n",
    "# Apply ANOVA for selected groups of features based on specific key moments or points\n",
    "anova_results = {}\n",
    "for feature in X.columns:\n",
    "    anova_results[feature] = f_oneway(X[feature], y).pvalue\n",
    "\n",
    "# Filter features with p-values below a threshold (e.g., 0.05)\n",
    "significant_features = [feature for feature, p_val in anova_results.items() if p_val < 0.05]\n",
    "print(\"Significant features from ANOVA:\", significant_features)\n"
   ]
  },
  {
   "cell_type": "code",
   "execution_count": null,
   "id": "88815cc3",
   "metadata": {},
   "outputs": [],
   "source": []
  }
 ],
 "metadata": {
  "kernelspec": {
   "display_name": "Python 3 (ipykernel)",
   "language": "python",
   "name": "python3"
  },
  "language_info": {
   "codemirror_mode": {
    "name": "ipython",
    "version": 3
   },
   "file_extension": ".py",
   "mimetype": "text/x-python",
   "name": "python",
   "nbconvert_exporter": "python",
   "pygments_lexer": "ipython3",
   "version": "3.11.5"
  }
 },
 "nbformat": 4,
 "nbformat_minor": 5
}
