{
 "cells": [
  {
   "cell_type": "code",
   "execution_count": 14,
   "id": "0c812ea8",
   "metadata": {},
   "outputs": [],
   "source": [
    "import pandas as pd\n",
    "df = pd.read_csv('data_new_2.csv')"
   ]
  },
  {
   "cell_type": "code",
   "execution_count": 15,
   "id": "79024c21",
   "metadata": {},
   "outputs": [],
   "source": [
    "key_moments = ['FB', 'MB', 'FS', 'MS', 'FT', 'MT', '360', '387', '414', '441', '468', '495', '522']\n",
    "\n",
    "iqr_bounds = {}"
   ]
  },
  {
   "cell_type": "code",
   "execution_count": 16,
   "id": "a10c06dd",
   "metadata": {},
   "outputs": [
    {
     "name": "stdout",
     "output_type": "stream",
     "text": [
      "                             lower_bound  upper_bound\n",
      "FB  FB_SPEED                  254.000000   366.000000\n",
      "    FB_LAP_DIST               217.618446   316.419777\n",
      "    FB_BRAKE                   -0.692996     1.463086\n",
      "    FB_LAP_DIST_FROM_APEX_1   222.047970   321.525017\n",
      "MB  MB_LAP_DIST               202.176788   409.886505\n",
      "    MB_BRAKE                    0.417455     1.349527\n",
      "    MB_LAP_DIST_FROM_APEX_1   212.501229   400.427997\n",
      "FS  FS_DIST_FROM_LEFT          -0.316969     6.802655\n",
      "    FS_SPEED                  124.000000   300.000000\n",
      "    FS_LAP_DIST               303.268677   355.638794\n",
      "    FS_BRAKE                   -0.549454     1.929673\n",
      "    FS_STEERING                 0.055500     0.119081\n",
      "    FS_LAP_DIST_FROM_APEX_1   306.655903   359.485407\n",
      "MS  MS_DIST_FROM_LEFT          -6.917424    25.192909\n",
      "    MS_SPEED                   84.500000   208.500000\n",
      "    MS_LAP_DIST               338.137024   444.072083\n",
      "    MS_THROTTLE                -0.669078     1.115129\n",
      "    MS_BRAKE                   -0.301147     0.501912\n",
      "    MS_STEERING                -0.220313     1.425958\n",
      "    MS_LAP_DIST_FROM_APEX_1   340.015211   404.948538\n",
      "    MS_LAP_DIST_FROM_APEX_2   352.763336   440.747363\n",
      "FT  FT_DIST_FROM_LEFT          -7.774195    23.379568\n",
      "    FT_SPEED                   66.500000   230.500000\n",
      "    FT_LAP_DIST               284.589172   466.139465\n",
      "    FT_THROTTLE                -0.245160     0.534660\n",
      "    FT_LAP_DIST_FROM_APEX_1   297.696260   422.365410\n",
      "MT  MT_DIST_FROM_LEFT          -6.398845    17.069621\n",
      "    MT_SPEED                   75.000000   251.000000\n",
      "    MT_LAP_DIST               159.314011   814.724045\n",
      "    MT_THROTTLE                 1.000000     1.000000\n",
      "    MT_LAP_DIST_FROM_APEX_1    -0.893024   578.428331\n",
      "    MT_LAP_DIST_FROM_APEX_2   281.472891   533.265066\n",
      "360 360_DIST_FROM_LEFT          2.755664    12.434440\n",
      "    360_SPEED                 114.500000   222.500000\n",
      "    360_ANGLE_APEX_1           95.958480   116.737702\n",
      "468 468_DIST_FROM_LEFT         -3.351828     7.805506\n",
      "    468_SPEED                  65.000000   257.000000\n",
      "    468_ANGLE_APEX_2         -378.644561   375.169890\n"
     ]
    }
   ],
   "source": [
    "for km in key_moments:\n",
    "    km_columns = [col for col in df.columns if col.startswith(km)]\n",
    "\n",
    "    iqr_bounds[km] = {}\n",
    "    \n",
    "    for col in km_columns:\n",
    "        Q1 = df[col].quantile(0.25)\n",
    "        Q3 = df[col].quantile(0.75)\n",
    "        IQR = Q3 - Q1\n",
    "        lower_bound = Q1 - 1.5 * IQR\n",
    "        upper_bound = Q3 + 1.5 * IQR\n",
    "        \n",
    "        iqr_bounds[km][col] = {'lower_bound': lower_bound, 'upper_bound': upper_bound}\n",
    "\n",
    "iqr_bounds_df = pd.DataFrame.from_dict({(km, col): bounds \n",
    "                                        for km, km_dict in iqr_bounds.items() \n",
    "                                        for col, bounds in km_dict.items()},\n",
    "                                       orient='index')\n",
    "\n",
    "print(iqr_bounds_df)"
   ]
  },
  {
   "cell_type": "code",
   "execution_count": 17,
   "id": "56912bb1",
   "metadata": {},
   "outputs": [
    {
     "name": "stdout",
     "output_type": "stream",
     "text": [
      "                            OLS Regression Results                            \n",
      "==============================================================================\n",
      "Dep. Variable:        SECTION_TIME_MS   R-squared:                       0.631\n",
      "Model:                            OLS   Adj. R-squared:                  0.616\n",
      "Method:                 Least Squares   F-statistic:                     43.18\n",
      "Date:                Sun, 03 Nov 2024   Prob (F-statistic):           3.65e-49\n",
      "Time:                        21:08:39   Log-Likelihood:                -2273.5\n",
      "No. Observations:                 264   AIC:                             4569.\n",
      "Df Residuals:                     253   BIC:                             4608.\n",
      "Df Model:                          10                                         \n",
      "Covariance Type:            nonrobust                                         \n",
      "=====================================================================================\n",
      "                        coef    std err          t      P>|t|      [0.025      0.975]\n",
      "-------------------------------------------------------------------------------------\n",
      "const              1.551e+04   1532.921     10.119      0.000    1.25e+04    1.85e+04\n",
      "FB_LAP_DIST           3.1780      3.926      0.809      0.419      -4.554      10.910\n",
      "MB_LAP_DIST           6.3790      2.611      2.444      0.015       1.238      11.520\n",
      "FS_LAP_DIST         -15.9643      2.875     -5.552      0.000     -21.627     -10.302\n",
      "MS_LAP_DIST           6.3603      4.151      1.532      0.127      -1.814      14.534\n",
      "FT_LAP_DIST         -18.4413      2.152     -8.571      0.000     -22.679     -14.204\n",
      "MT_LAP_DIST           3.1147      0.831      3.748      0.000       1.478       4.751\n",
      "FS_DIST_FROM_LEFT   767.6459     57.456     13.361      0.000     654.493     880.799\n",
      "MS_DIST_FROM_LEFT   -97.7678     25.862     -3.780      0.000    -148.699     -46.837\n",
      "FT_DIST_FROM_LEFT    11.0391     23.218      0.475      0.635     -34.686      56.764\n",
      "MT_DIST_FROM_LEFT    30.7271     22.928      1.340      0.181     -14.427      75.881\n",
      "==============================================================================\n",
      "Omnibus:                      156.750   Durbin-Watson:                   1.892\n",
      "Prob(Omnibus):                  0.000   Jarque-Bera (JB):             1939.736\n",
      "Skew:                           2.113   Prob(JB):                         0.00\n",
      "Kurtosis:                      15.589   Cond. No.                     1.61e+04\n",
      "==============================================================================\n",
      "\n",
      "Notes:\n",
      "[1] Standard Errors assume that the covariance matrix of the errors is correctly specified.\n",
      "[2] The condition number is large, 1.61e+04. This might indicate that there are\n",
      "strong multicollinearity or other numerical problems.\n"
     ]
    }
   ],
   "source": [
    "import pandas as pd\n",
    "import statsmodels.api as sm\n",
    "from sklearn.model_selection import train_test_split\n",
    "\n",
    "valid_laps_df = df[df['INVALID_LAP'] == False]\n",
    "\n",
    "predictors = [\n",
    "    'FB_LAP_DIST', 'MB_LAP_DIST', 'FS_LAP_DIST', 'MS_LAP_DIST', \n",
    "    'FT_LAP_DIST', 'MT_LAP_DIST', 'FS_DIST_FROM_LEFT', 'MS_DIST_FROM_LEFT', \n",
    "    'FT_DIST_FROM_LEFT', 'MT_DIST_FROM_LEFT'\n",
    "]\n",
    "X = valid_laps_df[predictors]\n",
    "y = valid_laps_df['SECTION_TIME_MS']\n",
    "\n",
    "X = sm.add_constant(X)\n",
    "\n",
    "X_train, X_test, y_train, y_test = train_test_split(X, y, test_size=0.2, random_state=42)\n",
    "\n",
    "model = sm.OLS(y_train, X_train).fit()\n",
    "\n",
    "print(model.summary())\n",
    "\n"
   ]
  },
  {
   "cell_type": "code",
   "execution_count": null,
   "id": "8cd8cc8c",
   "metadata": {},
   "outputs": [],
   "source": []
  }
 ],
 "metadata": {
  "kernelspec": {
   "display_name": "Python 3 (ipykernel)",
   "language": "python",
   "name": "python3"
  },
  "language_info": {
   "codemirror_mode": {
    "name": "ipython",
    "version": 3
   },
   "file_extension": ".py",
   "mimetype": "text/x-python",
   "name": "python",
   "nbconvert_exporter": "python",
   "pygments_lexer": "ipython3",
   "version": "3.11.5"
  }
 },
 "nbformat": 4,
 "nbformat_minor": 5
}
