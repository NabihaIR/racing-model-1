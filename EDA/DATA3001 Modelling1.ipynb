{
 "cells": [
  {
   "cell_type": "code",
   "execution_count": 2,
   "id": "0c812ea8",
   "metadata": {},
   "outputs": [],
   "source": [
    "import pandas as pd\n",
    "df = pd.read_csv('data_new_2.csv')"
   ]
  },
  {
   "cell_type": "code",
   "execution_count": 3,
   "id": "79024c21",
   "metadata": {},
   "outputs": [],
   "source": [
    "key_moments = ['FB', 'MB', 'FS', 'MS', 'FT', 'MT', '360', '387', '414', '441', '468', '495', '522']\n",
    "\n",
    "iqr_bounds = {}"
   ]
  },
  {
   "cell_type": "code",
   "execution_count": 4,
   "id": "a10c06dd",
   "metadata": {},
   "outputs": [
    {
     "name": "stdout",
     "output_type": "stream",
     "text": [
      "                             lower_bound  upper_bound\n",
      "FB  FB_SPEED                  282.500000   350.500000\n",
      "    FB_LAP_DIST               232.497254   300.501648\n",
      "    FB_BRAKE                   -0.375943     1.470731\n",
      "    FB_LAP_DIST_FROM_APEX_1   237.867703   305.175230\n",
      "MB  MB_LAP_DIST               197.206512   399.893768\n",
      "    MB_BRAKE                    0.977798     1.013321\n",
      "    MB_LAP_DIST_FROM_APEX_1   203.524211   402.708009\n",
      "FS  FS_DIST_FROM_LEFT           0.398082     5.392626\n",
      "    FS_SPEED                  141.500000   273.500000\n",
      "    FS_LAP_DIST               309.084450   351.253456\n",
      "    FS_BRAKE                    0.366760     1.379944\n",
      "    FS_STEERING                 0.056866     0.117388\n",
      "    FS_LAP_DIST_FROM_APEX_1   313.496385   354.335157\n",
      "MS  MS_DIST_FROM_LEFT          -1.036827    22.279684\n",
      "    MS_SPEED                   94.375000   197.375000\n",
      "    MS_LAP_DIST               337.841557   433.863254\n",
      "    MS_THROTTLE                -0.751244     1.252073\n",
      "    MS_BRAKE                   -0.148781     0.247969\n",
      "    MS_STEERING                -0.006565     1.118563\n",
      "    MS_LAP_DIST_FROM_APEX_1   353.510552   399.639298\n",
      "    MS_LAP_DIST_FROM_APEX_2   357.321383   426.418085\n",
      "FT  FT_DIST_FROM_LEFT          -5.780124    22.725259\n",
      "    FT_SPEED                   84.500000   208.500000\n",
      "    FT_LAP_DIST               311.073215   433.716618\n",
      "    FT_THROTTLE                -0.208700     0.470342\n",
      "    FT_LAP_DIST_FROM_APEX_1   328.511309   407.840041\n",
      "MT  MT_DIST_FROM_LEFT          -6.101483    16.876337\n",
      "    MT_SPEED                   90.375000   241.375000\n",
      "    MT_LAP_DIST               248.256428   655.180042\n",
      "    MT_THROTTLE                 1.000000     1.000000\n",
      "    MT_LAP_DIST_FROM_APEX_1   126.273212   515.694968\n",
      "    MT_LAP_DIST_FROM_APEX_2   319.394530   499.331593\n",
      "360 360_DIST_FROM_LEFT          4.066405    10.084488\n",
      "    360_SPEED                 124.500000   200.500000\n",
      "    360_ANGLE_APEX_1           98.083059   111.903670\n",
      "468 468_DIST_FROM_LEFT         -1.705282     5.437875\n",
      "    468_SPEED                 115.500000   239.500000\n",
      "    468_ANGLE_APEX_2         -379.472882   383.955707\n"
     ]
    }
   ],
   "source": [
    "valid_laps_df = df[df['INVALID_LAP'] == False]\n",
    "for km in key_moments:\n",
    "    km_columns = [col for col in valid_laps_df.columns if col.startswith(km)]\n",
    "\n",
    "    iqr_bounds[km] = {}\n",
    "    \n",
    "    for col in km_columns:\n",
    "        Q1 = valid_laps_df[col].quantile(0.25)\n",
    "        Q3 = valid_laps_df[col].quantile(0.75)\n",
    "        IQR = Q3 - Q1\n",
    "        lower_bound = Q1 - 1.5 * IQR\n",
    "        upper_bound = Q3 + 1.5 * IQR\n",
    "        \n",
    "        iqr_bounds[km][col] = {'lower_bound': lower_bound, 'upper_bound': upper_bound}\n",
    "\n",
    "iqr_bounds_df = pd.DataFrame.from_dict({(km, col): bounds \n",
    "                                        for km, km_dict in iqr_bounds.items() \n",
    "                                        for col, bounds in km_dict.items()},\n",
    "                                       orient='index')\n",
    "\n",
    "print(iqr_bounds_df)"
   ]
  },
  {
   "cell_type": "code",
   "execution_count": 5,
   "id": "56912bb1",
   "metadata": {},
   "outputs": [
    {
     "name": "stdout",
     "output_type": "stream",
     "text": [
      "                            OLS Regression Results                            \n",
      "==============================================================================\n",
      "Dep. Variable:        SECTION_TIME_MS   R-squared:                       0.631\n",
      "Model:                            OLS   Adj. R-squared:                  0.616\n",
      "Method:                 Least Squares   F-statistic:                     43.18\n",
      "Date:                Tue, 05 Nov 2024   Prob (F-statistic):           3.65e-49\n",
      "Time:                        10:43:08   Log-Likelihood:                -2273.5\n",
      "No. Observations:                 264   AIC:                             4569.\n",
      "Df Residuals:                     253   BIC:                             4608.\n",
      "Df Model:                          10                                         \n",
      "Covariance Type:            nonrobust                                         \n",
      "=====================================================================================\n",
      "                        coef    std err          t      P>|t|      [0.025      0.975]\n",
      "-------------------------------------------------------------------------------------\n",
      "const              1.551e+04   1532.921     10.119      0.000    1.25e+04    1.85e+04\n",
      "FB_LAP_DIST           3.1780      3.926      0.809      0.419      -4.554      10.910\n",
      "MB_LAP_DIST           6.3790      2.611      2.444      0.015       1.238      11.520\n",
      "FS_LAP_DIST         -15.9643      2.875     -5.552      0.000     -21.627     -10.302\n",
      "MS_LAP_DIST           6.3603      4.151      1.532      0.127      -1.814      14.534\n",
      "FT_LAP_DIST         -18.4413      2.152     -8.571      0.000     -22.679     -14.204\n",
      "MT_LAP_DIST           3.1147      0.831      3.748      0.000       1.478       4.751\n",
      "FS_DIST_FROM_LEFT   767.6459     57.456     13.361      0.000     654.493     880.799\n",
      "MS_DIST_FROM_LEFT   -97.7678     25.862     -3.780      0.000    -148.699     -46.837\n",
      "FT_DIST_FROM_LEFT    11.0391     23.218      0.475      0.635     -34.686      56.764\n",
      "MT_DIST_FROM_LEFT    30.7271     22.928      1.340      0.181     -14.427      75.881\n",
      "==============================================================================\n",
      "Omnibus:                      156.750   Durbin-Watson:                   1.892\n",
      "Prob(Omnibus):                  0.000   Jarque-Bera (JB):             1939.736\n",
      "Skew:                           2.113   Prob(JB):                         0.00\n",
      "Kurtosis:                      15.589   Cond. No.                     1.61e+04\n",
      "==============================================================================\n",
      "\n",
      "Notes:\n",
      "[1] Standard Errors assume that the covariance matrix of the errors is correctly specified.\n",
      "[2] The condition number is large, 1.61e+04. This might indicate that there are\n",
      "strong multicollinearity or other numerical problems.\n"
     ]
    }
   ],
   "source": [
    "import pandas as pd\n",
    "import statsmodels.api as sm\n",
    "from sklearn.model_selection import train_test_split\n",
    "\n",
    "valid_laps_df = df[df['INVALID_LAP'] == False]\n",
    "\n",
    "predictors = [\n",
    "    'FB_LAP_DIST', 'MB_LAP_DIST', 'FS_LAP_DIST', 'MS_LAP_DIST', \n",
    "    'FT_LAP_DIST', 'MT_LAP_DIST', 'FS_DIST_FROM_LEFT', 'MS_DIST_FROM_LEFT', \n",
    "    'FT_DIST_FROM_LEFT', 'MT_DIST_FROM_LEFT'\n",
    "]\n",
    "X = valid_laps_df[predictors]\n",
    "y = valid_laps_df['SECTION_TIME_MS']\n",
    "\n",
    "X = sm.add_constant(X)\n",
    "\n",
    "X_train, X_test, y_train, y_test = train_test_split(X, y, test_size=0.2, random_state=42)\n",
    "\n",
    "model = sm.OLS(y_train, X_train).fit()\n",
    "\n",
    "print(model.summary())\n",
    "\n"
   ]
  },
  {
   "cell_type": "code",
   "execution_count": null,
   "id": "8cd8cc8c",
   "metadata": {},
   "outputs": [],
   "source": []
  }
 ],
 "metadata": {
  "kernelspec": {
   "display_name": "Python 3 (ipykernel)",
   "language": "python",
   "name": "python3"
  },
  "language_info": {
   "codemirror_mode": {
    "name": "ipython",
    "version": 3
   },
   "file_extension": ".py",
   "mimetype": "text/x-python",
   "name": "python",
   "nbconvert_exporter": "python",
   "pygments_lexer": "ipython3",
   "version": "3.11.5"
  }
 },
 "nbformat": 4,
 "nbformat_minor": 5
}
